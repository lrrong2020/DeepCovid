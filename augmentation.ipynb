{
 "cells": [
  {
   "cell_type": "code",
   "execution_count": 4,
   "id": "c2938134-1ef7-40d2-a932-434379a0ad9b",
   "metadata": {},
   "outputs": [
    {
     "name": "stdout",
     "output_type": "stream",
     "text": [
      "Initialised with 84 image(s) found.\n",
      "Output directory set to /home/jupyter/dataset/covid/covid_origin/train/covid_4200."
     ]
    },
    {
     "name": "stderr",
     "output_type": "stream",
     "text": [
      "Processing <PIL.Image.Image image mode=L size=957x852 at 0x7FA64FBB9DC0>: 100%|██████████████████████████████████████████████████████████████████████████| 5/5 [00:03<00:00,  1.30 Samples/s]"
     ]
    },
    {
     "name": "stdout",
     "output_type": "stream",
     "text": [
      "Augmentation complete. Check the output directory: /home/jupyter/dataset/covid/covid_origin/train/covid_4200\n"
     ]
    },
    {
     "name": "stderr",
     "output_type": "stream",
     "text": [
      "\n"
     ]
    }
   ],
   "source": [
    "import Augmentor\n",
    "import os\n",
    "\n",
    "# Define the paths\n",
    "input_directory = os.path.expanduser(\"~/dataset/covid/covid/train/covid\")\n",
    "output_directory = os.path.expanduser(\"~/dataset/covid/covid/train/covid_1\")\n",
    "\n",
    "# Create the output directory if it does not exist\n",
    "if not os.path.exists(output_directory):\n",
    "    os.makedirs(output_directory)\n",
    "\n",
    "# Initialize the pipeline\n",
    "p = Augmentor.Pipeline(source_directory=input_directory, output_directory=output_directory)\n",
    "\n",
    "# Define the augmentation operations\n",
    "p.rotate(probability=1, max_left_rotation=25, max_right_rotation=25)\n",
    "p.flip_left_right(probability=0.5)\n",
    "p.flip_top_bottom(probability=0.5)\n",
    "\n",
    "# The number of images desired in the output directory\n",
    "desired_output_count = 420\n",
    "\n",
    "# The number of images currently in the input directory\n",
    "current_image_count = len(os.listdir(input_directory))\n",
    "\n",
    "# Calculate the multiplication factor needed to reach the desired count\n",
    "# The factor is the ceiling of the desired count divided by the current count\n",
    "multiplication_factor = -(-desired_output_count // current_image_count)\n",
    "\n",
    "# Sample images to reach the desired count\n",
    "p.sample(multiplication_factor)\n",
    "\n",
    "# Augmentor will output a larger number of images if the multiplication results in a number greater than desired.\n",
    "# Hence, we will remove the excess images if necessary.\n",
    "output_images = os.listdir(output_directory)\n",
    "number_of_output_images = len(output_images)\n",
    "\n",
    "if number_of_output_images > desired_output_count:\n",
    "    # Remove the excess images\n",
    "    excess = number_of_output_images - desired_output_count\n",
    "    for i in range(excess):\n",
    "        os.remove(os.path.join(output_directory, output_images[i]))\n",
    "\n",
    "print(f\"Augmentation complete. Check the output directory: {output_directory}\")\n"
   ]
  },
  {
   "cell_type": "code",
   "execution_count": 2,
   "id": "f27a1a61-95b6-44cb-ad80-2e169d7b8613",
   "metadata": {},
   "outputs": [
    {
     "name": "stdout",
     "output_type": "stream",
     "text": [
      "Collecting Augmentor\n",
      "  Downloading Augmentor-0.2.12-py2.py3-none-any.whl (38 kB)\n",
      "Requirement already satisfied: Pillow>=5.2.0 in /opt/conda/envs/pytorch_env/lib/python3.12/site-packages (from Augmentor) (10.1.0)\n",
      "Requirement already satisfied: tqdm>=4.9.0 in /opt/conda/envs/pytorch_env/lib/python3.12/site-packages (from Augmentor) (4.66.1)\n",
      "Requirement already satisfied: numpy>=1.11.0 in /opt/conda/envs/pytorch_env/lib/python3.12/site-packages (from Augmentor) (1.26.2)\n",
      "Installing collected packages: Augmentor\n",
      "Successfully installed Augmentor-0.2.12\n"
     ]
    }
   ],
   "source": [
    "! pip install Augmentor"
   ]
  },
  {
   "cell_type": "code",
   "execution_count": 2,
   "id": "d766223b-0687-4da4-bd01-b6279e419155",
   "metadata": {},
   "outputs": [
    {
     "name": "stdout",
     "output_type": "stream",
     "text": [
      "Initialised with 84 image(s) found.\n",
      "Output directory set to /home/jupyter/dataset/covid/covid/train/covid_1."
     ]
    },
    {
     "name": "stderr",
     "output_type": "stream",
     "text": [
      "Processing <PIL.Image.Image image mode=RGB size=1723x1466 at 0x7FA3CCB5D520>: 100%|█| 420/420 [01:35<00:00, "
     ]
    },
    {
     "name": "stdout",
     "output_type": "stream",
     "text": [
      "Augmentation complete. Check the output directory: /home/jupyter/dataset/covid/covid/train/covid_1\n"
     ]
    },
    {
     "name": "stderr",
     "output_type": "stream",
     "text": [
      "\n"
     ]
    }
   ],
   "source": [
    "import Augmentor\n",
    "import os\n",
    "\n",
    "# Define the paths\n",
    "input_directory = os.path.expanduser(\"~/dataset/covid/covid/train/covid\")\n",
    "output_directory = os.path.expanduser(\"~/dataset/covid/covid/train/covid_1\")\n",
    "\n",
    "# Create the output directory if it does not exist\n",
    "if not os.path.exists(output_directory):\n",
    "    os.makedirs(output_directory)\n",
    "\n",
    "# Initialize the pipeline\n",
    "p = Augmentor.Pipeline(source_directory=input_directory, output_directory=output_directory)\n",
    "\n",
    "# Define the augmentation operations\n",
    "p.rotate(probability=1, max_left_rotation=25, max_right_rotation=25)\n",
    "p.flip_left_right(probability=0.5)\n",
    "p.flip_top_bottom(probability=0.5)\n",
    "\n",
    "# Sample 420 images\n",
    "p.sample(420)\n",
    "\n",
    "print(f\"Augmentation complete. Check the output directory: {output_directory}\")\n"
   ]
  }
 ],
 "metadata": {
  "kernelspec": {
   "display_name": "Python 3 (ipykernel)",
   "language": "python",
   "name": "python3"
  },
  "language_info": {
   "codemirror_mode": {
    "name": "ipython",
    "version": 3
   },
   "file_extension": ".py",
   "mimetype": "text/x-python",
   "name": "python",
   "nbconvert_exporter": "python",
   "pygments_lexer": "ipython3",
   "version": "3.9.18"
  }
 },
 "nbformat": 4,
 "nbformat_minor": 5
}
