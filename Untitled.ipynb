{
 "cells": [
  {
   "cell_type": "code",
   "execution_count": 2,
   "id": "d51c9bf1-85d3-48ee-af61-5b441cc227e3",
   "metadata": {},
   "outputs": [],
   "source": [
    "import os\n",
    "import shutil\n",
    "import numpy as np\n",
    "\n",
    "# Define your directories\n",
    "base_dir = '/home/jupyter/dataset/covid/covid_aug'\n",
    "train_dir = os.path.join(base_dir, 'train')\n",
    "\n",
    "train_covid_dir = os.path.join(train_dir, 'covid')\n",
    "train_non_dir = os.path.join(train_dir, 'non')\n",
    "\n",
    "val_dir = os.path.join(base_dir, 'val')\n",
    "val_covid_dir = os.path.join(val_dir, 'covid')\n",
    "val_non_dir = os.path.join(val_dir, 'non')\n",
    "\n",
    "# Create validation directories if they don't exist\n",
    "os.makedirs(val_covid_dir, exist_ok=True)\n",
    "os.makedirs(val_non_dir, exist_ok=True)\n",
    "\n",
    "def move_files_to_validation(train_dir, val_dir, val_ratio):\n",
    "    files = os.listdir(train_dir)\n",
    "    val_files_count = int(len(files) * val_ratio)\n",
    "    np.random.shuffle(files)\n",
    "    \n",
    "    for file_name in files[:val_files_count]:\n",
    "        shutil.move(os.path.join(train_dir, file_name), os.path.join(val_dir, file_name))\n",
    "\n",
    "# Move 10% of each class to the validation directories\n",
    "move_files_to_validation(train_covid_dir, val_covid_dir, 0.1)\n",
    "move_files_to_validation(train_non_dir, val_non_dir, 0.1)\n"
   ]
  },
  {
   "cell_type": "code",
   "execution_count": null,
   "id": "35960d74-d718-4774-8029-32cd86951014",
   "metadata": {},
   "outputs": [],
   "source": []
  }
 ],
 "metadata": {
  "kernelspec": {
   "display_name": "Python 3 (ipykernel)",
   "language": "python",
   "name": "python3"
  },
  "language_info": {
   "codemirror_mode": {
    "name": "ipython",
    "version": 3
   },
   "file_extension": ".py",
   "mimetype": "text/x-python",
   "name": "python",
   "nbconvert_exporter": "python",
   "pygments_lexer": "ipython3",
   "version": "3.9.18"
  }
 },
 "nbformat": 4,
 "nbformat_minor": 5
}
