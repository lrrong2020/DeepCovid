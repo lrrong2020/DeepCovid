{
 "cells": [
  {
   "cell_type": "code",
   "execution_count": 4,
   "id": "d51c9bf1-85d3-48ee-af61-5b441cc227e3",
   "metadata": {},
   "outputs": [],
   "source": [
    "import os\n",
    "import shutil\n",
    "import numpy as np\n",
    "\n",
    "# Define your directories\n",
    "base_dir = '/home/jupyter/dataset/covid/covid'\n",
    "train_dir = os.path.join(base_dir, 'train')\n",
    "\n",
    "\n",
    "train_non_dir = os.path.join(train_dir, 'non')\n",
    "\n",
    "val_dir = os.path.join(base_dir, 'val')\n",
    "\n",
    "val_non_dir = os.path.join(val_dir, 'non')\n",
    "\n",
    "# Create validation directories if they don't exist\n",
    "\n",
    "os.makedirs(val_non_dir, exist_ok=True)\n",
    "\n",
    "def move_files_to_validation(train_dir, val_dir, val_ratio):\n",
    "    files = os.listdir(train_dir)\n",
    "    val_files_count = int(len(files) * val_ratio)\n",
    "    np.random.shuffle(files)\n",
    "    \n",
    "    for file_name in files[:val_files_count]:\n",
    "        shutil.move(os.path.join(train_dir, file_name), os.path.join(val_dir, file_name))\n",
    "\n",
    "# Move 10% of each class to the validation directories\n",
    "move_files_to_validation(train_non_dir, val_non_dir, 0.1)\n"
   ]
  },
  {
   "cell_type": "code",
   "execution_count": 3,
   "id": "35960d74-d718-4774-8029-32cd86951014",
   "metadata": {},
   "outputs": [
    {
     "name": "stdout",
     "output_type": "stream",
     "text": [
      "Copied 580 images to /home/jupyter/dataset/covid/covid/train/non_1\n"
     ]
    }
   ],
   "source": [
    "import os\n",
    "import shutil\n",
    "import random\n",
    "\n",
    "# Set the path to the directory containing the images\n",
    "source_dir = '/home/jupyter/dataset/covid/covid/train/non'\n",
    "\n",
    "# Set the path to the directory where you want to copy the images\n",
    "target_dir = '/home/jupyter/dataset/covid/covid/train/non_1'\n",
    "\n",
    "# Make sure the target directory exists, if not, create it\n",
    "if not os.path.exists(target_dir):\n",
    "    os.makedirs(target_dir)\n",
    "\n",
    "# Get a list of filenames in the source directory\n",
    "filenames = os.listdir(source_dir)\n",
    "\n",
    "# Filter out any non-image files if necessary (assuming the images have .jpg, .jpeg, .png, .gif extensions)\n",
    "image_extensions = ['.jpg', '.jpeg', '.png', '.gif']\n",
    "image_filenames = [fn for fn in filenames if any(fn.lower().endswith(ext) for ext in image_extensions)]\n",
    "\n",
    "# Randomly select 580 images\n",
    "selected_images = random.sample(image_filenames, 580)\n",
    "\n",
    "# Copy the selected images to the target directory\n",
    "for image in selected_images:\n",
    "    shutil.copy(os.path.join(source_dir, image), os.path.join(target_dir, image))\n",
    "\n",
    "print(f\"Copied {len(selected_images)} images to {target_dir}\")\n"
   ]
  }
 ],
 "metadata": {
  "kernelspec": {
   "display_name": "Python 3 (ipykernel)",
   "language": "python",
   "name": "python3"
  },
  "language_info": {
   "codemirror_mode": {
    "name": "ipython",
    "version": 3
   },
   "file_extension": ".py",
   "mimetype": "text/x-python",
   "name": "python",
   "nbconvert_exporter": "python",
   "pygments_lexer": "ipython3",
   "version": "3.9.18"
  }
 },
 "nbformat": 4,
 "nbformat_minor": 5
}
