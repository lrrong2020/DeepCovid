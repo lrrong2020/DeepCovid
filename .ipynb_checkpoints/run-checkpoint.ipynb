{
 "cells": [
  {
   "cell_type": "code",
   "execution_count": 3,
   "id": "5ed35c28-7ff7-4e99-a57a-dc60b0aaf1ea",
   "metadata": {},
   "outputs": [
    {
     "name": "stdout",
     "output_type": "stream",
     "text": [
      "Traceback (most recent call last):\n",
      "  File \"/home/jupyter/source_code/DeepCovid/ResNet18_train.py\", line 6, in <module>\n",
      "    import torch\n",
      "ModuleNotFoundError: No module named 'torch'\n"
     ]
    }
   ],
   "source": [
    "!python ResNet18_train.py \\\n",
    "--dataset_path /home/jupyter/dataset/covid/covid \\\n",
    "--output_path /home/jupyter/source_code/DeepCovid/output_original \\\n",
    "--batch_size 20 \\\n",
    "--epoch 100 \\\n",
    "--num_workers 4 \\\n",
    "--learning_rate 0.0001"
   ]
  },
  {
   "cell_type": "code",
   "execution_count": null,
   "id": "c2abb9e9-c9d0-45fd-a3e5-d366976f79d8",
   "metadata": {},
   "outputs": [],
   "source": []
  }
 ],
 "metadata": {
  "kernelspec": {
   "display_name": "Python 3 (ipykernel)",
   "language": "python",
   "name": "python3"
  },
  "language_info": {
   "codemirror_mode": {
    "name": "ipython",
    "version": 3
   },
   "file_extension": ".py",
   "mimetype": "text/x-python",
   "name": "python",
   "nbconvert_exporter": "python",
   "pygments_lexer": "ipython3",
   "version": "3.12.0"
  }
 },
 "nbformat": 4,
 "nbformat_minor": 5
}
